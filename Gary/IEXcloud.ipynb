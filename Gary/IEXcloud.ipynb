{
 "nbformat": 4,
 "nbformat_minor": 2,
 "metadata": {
  "language_info": {
   "name": "python",
   "codemirror_mode": {
    "name": "ipython",
    "version": 3
   },
   "version": "3.7.4-final"
  },
  "orig_nbformat": 2,
  "file_extension": ".py",
  "mimetype": "text/x-python",
  "name": "python",
  "npconvert_exporter": "python",
  "pygments_lexer": "ipython3",
  "version": 3,
  "kernelspec": {
   "name": "python37464bitbaseconda630c9363b6594635b88cb05a5bbcab3f",
   "display_name": "Python 3.7.4 64-bit ('base': conda)"
  }
 },
 "cells": [
  {
   "cell_type": "code",
   "execution_count": 10,
   "metadata": {},
   "outputs": [],
   "source": [
    "import pandas as pd"
   ]
  },
  {
   "cell_type": "code",
   "execution_count": 11,
   "metadata": {},
   "outputs": [],
   "source": [
    "sym = \"TSLA\"  # This is not case-sensitive\n",
    "token = \"pk_02b9983363f24c23b2f3da6175f4ff1e\"\n",
    "df_temp = pd.read_json('https://cloud.iexapis.com/stable/stock/'+sym+'/chart/1y?token='+token+'')"
   ]
  },
  {
   "cell_type": "code",
   "execution_count": 12,
   "metadata": {},
   "outputs": [
    {
     "data": {
      "text/html": "<div>\n<style scoped>\n    .dataframe tbody tr th:only-of-type {\n        vertical-align: middle;\n    }\n\n    .dataframe tbody tr th {\n        vertical-align: top;\n    }\n\n    .dataframe thead th {\n        text-align: right;\n    }\n</style>\n<table border=\"1\" class=\"dataframe\">\n  <thead>\n    <tr style=\"text-align: right;\">\n      <th></th>\n      <th>date</th>\n      <th>open</th>\n      <th>close</th>\n      <th>high</th>\n      <th>low</th>\n      <th>volume</th>\n      <th>uOpen</th>\n      <th>uClose</th>\n      <th>uHigh</th>\n      <th>uLow</th>\n      <th>uVolume</th>\n      <th>change</th>\n      <th>changePercent</th>\n      <th>label</th>\n      <th>changeOverTime</th>\n    </tr>\n  </thead>\n  <tbody>\n    <tr>\n      <td>0</td>\n      <td>2019-01-25</td>\n      <td>294.39</td>\n      <td>297.04</td>\n      <td>298.52</td>\n      <td>289.55</td>\n      <td>7258078</td>\n      <td>294.39</td>\n      <td>297.04</td>\n      <td>298.52</td>\n      <td>289.55</td>\n      <td>7258078</td>\n      <td>0.00</td>\n      <td>0.0000</td>\n      <td>Jan 25, 19</td>\n      <td>0.000000</td>\n    </tr>\n    <tr>\n      <td>1</td>\n      <td>2019-01-28</td>\n      <td>292.91</td>\n      <td>296.38</td>\n      <td>297.46</td>\n      <td>287.75</td>\n      <td>6423279</td>\n      <td>292.91</td>\n      <td>296.38</td>\n      <td>297.46</td>\n      <td>287.75</td>\n      <td>6423279</td>\n      <td>-0.66</td>\n      <td>-0.2222</td>\n      <td>Jan 28, 19</td>\n      <td>-0.002222</td>\n    </tr>\n    <tr>\n      <td>2</td>\n      <td>2019-01-29</td>\n      <td>295.27</td>\n      <td>297.46</td>\n      <td>298.56</td>\n      <td>291.80</td>\n      <td>4621692</td>\n      <td>295.27</td>\n      <td>297.46</td>\n      <td>298.56</td>\n      <td>291.80</td>\n      <td>4621692</td>\n      <td>1.08</td>\n      <td>0.3644</td>\n      <td>Jan 29, 19</td>\n      <td>0.001414</td>\n    </tr>\n  </tbody>\n</table>\n</div>",
      "text/plain": "        date    open   close    high     low   volume   uOpen  uClose   uHigh  \\\n0 2019-01-25  294.39  297.04  298.52  289.55  7258078  294.39  297.04  298.52   \n1 2019-01-28  292.91  296.38  297.46  287.75  6423279  292.91  296.38  297.46   \n2 2019-01-29  295.27  297.46  298.56  291.80  4621692  295.27  297.46  298.56   \n\n     uLow  uVolume  change  changePercent       label  changeOverTime  \n0  289.55  7258078    0.00         0.0000  Jan 25, 19        0.000000  \n1  287.75  6423279   -0.66        -0.2222  Jan 28, 19       -0.002222  \n2  291.80  4621692    1.08         0.3644  Jan 29, 19        0.001414  "
     },
     "execution_count": 12,
     "metadata": {},
     "output_type": "execute_result"
    }
   ],
   "source": [
    "df_temp.head(3)"
   ]
  },
  {
   "cell_type": "code",
   "execution_count": 13,
   "metadata": {},
   "outputs": [
    {
     "data": {
      "text/html": "<div>\n<style scoped>\n    .dataframe tbody tr th:only-of-type {\n        vertical-align: middle;\n    }\n\n    .dataframe tbody tr th {\n        vertical-align: top;\n    }\n\n    .dataframe thead th {\n        text-align: right;\n    }\n</style>\n<table border=\"1\" class=\"dataframe\">\n  <thead>\n    <tr style=\"text-align: right;\">\n      <th></th>\n      <th>date</th>\n      <th>open</th>\n      <th>close</th>\n      <th>high</th>\n      <th>low</th>\n      <th>volume</th>\n      <th>uOpen</th>\n      <th>uClose</th>\n      <th>uHigh</th>\n      <th>uLow</th>\n      <th>uVolume</th>\n      <th>change</th>\n      <th>changePercent</th>\n      <th>label</th>\n      <th>changeOverTime</th>\n    </tr>\n  </thead>\n  <tbody>\n    <tr>\n      <td>249</td>\n      <td>2020-01-22</td>\n      <td>571.89</td>\n      <td>569.56</td>\n      <td>594.50</td>\n      <td>559.10</td>\n      <td>31369028</td>\n      <td>571.89</td>\n      <td>569.56</td>\n      <td>594.50</td>\n      <td>559.10</td>\n      <td>31369028</td>\n      <td>22.36</td>\n      <td>4.0863</td>\n      <td>Jan 22, 20</td>\n      <td>0.917452</td>\n    </tr>\n    <tr>\n      <td>250</td>\n      <td>2020-01-23</td>\n      <td>564.25</td>\n      <td>572.20</td>\n      <td>582.00</td>\n      <td>555.60</td>\n      <td>19651042</td>\n      <td>564.25</td>\n      <td>572.20</td>\n      <td>582.00</td>\n      <td>555.60</td>\n      <td>19651042</td>\n      <td>2.64</td>\n      <td>0.4635</td>\n      <td>Jan 23, 20</td>\n      <td>0.926340</td>\n    </tr>\n    <tr>\n      <td>251</td>\n      <td>2020-01-24</td>\n      <td>570.63</td>\n      <td>564.82</td>\n      <td>573.86</td>\n      <td>554.26</td>\n      <td>14353600</td>\n      <td>570.63</td>\n      <td>564.82</td>\n      <td>573.86</td>\n      <td>554.26</td>\n      <td>14353600</td>\n      <td>-7.38</td>\n      <td>-1.2898</td>\n      <td>Jan 24, 20</td>\n      <td>0.901495</td>\n    </tr>\n  </tbody>\n</table>\n</div>",
      "text/plain": "          date    open   close    high     low    volume   uOpen  uClose  \\\n249 2020-01-22  571.89  569.56  594.50  559.10  31369028  571.89  569.56   \n250 2020-01-23  564.25  572.20  582.00  555.60  19651042  564.25  572.20   \n251 2020-01-24  570.63  564.82  573.86  554.26  14353600  570.63  564.82   \n\n      uHigh    uLow   uVolume  change  changePercent       label  \\\n249  594.50  559.10  31369028   22.36         4.0863  Jan 22, 20   \n250  582.00  555.60  19651042    2.64         0.4635  Jan 23, 20   \n251  573.86  554.26  14353600   -7.38        -1.2898  Jan 24, 20   \n\n     changeOverTime  \n249        0.917452  \n250        0.926340  \n251        0.901495  "
     },
     "execution_count": 13,
     "metadata": {},
     "output_type": "execute_result"
    }
   ],
   "source": [
    "df_temp.tail(3)"
   ]
  },
  {
   "cell_type": "code",
   "execution_count": 14,
   "metadata": {},
   "outputs": [],
   "source": [
    "df_temp.set_index('date',inplace=True)"
   ]
  },
  {
   "cell_type": "code",
   "execution_count": 15,
   "metadata": {},
   "outputs": [
    {
     "data": {
      "text/html": "<div>\n<style scoped>\n    .dataframe tbody tr th:only-of-type {\n        vertical-align: middle;\n    }\n\n    .dataframe tbody tr th {\n        vertical-align: top;\n    }\n\n    .dataframe thead th {\n        text-align: right;\n    }\n</style>\n<table border=\"1\" class=\"dataframe\">\n  <thead>\n    <tr style=\"text-align: right;\">\n      <th></th>\n      <th>open</th>\n      <th>high</th>\n      <th>low</th>\n      <th>close</th>\n      <th>volume</th>\n    </tr>\n    <tr>\n      <th>date</th>\n      <th></th>\n      <th></th>\n      <th></th>\n      <th></th>\n      <th></th>\n    </tr>\n  </thead>\n  <tbody>\n    <tr>\n      <td>2019-01-25</td>\n      <td>294.39</td>\n      <td>298.52</td>\n      <td>289.55</td>\n      <td>297.04</td>\n      <td>7258078</td>\n    </tr>\n    <tr>\n      <td>2019-01-28</td>\n      <td>292.91</td>\n      <td>297.46</td>\n      <td>287.75</td>\n      <td>296.38</td>\n      <td>6423279</td>\n    </tr>\n    <tr>\n      <td>2019-01-29</td>\n      <td>295.27</td>\n      <td>298.56</td>\n      <td>291.80</td>\n      <td>297.46</td>\n      <td>4621692</td>\n    </tr>\n  </tbody>\n</table>\n</div>",
      "text/plain": "              open    high     low   close   volume\ndate                                               \n2019-01-25  294.39  298.52  289.55  297.04  7258078\n2019-01-28  292.91  297.46  287.75  296.38  6423279\n2019-01-29  295.27  298.56  291.80  297.46  4621692"
     },
     "execution_count": 15,
     "metadata": {},
     "output_type": "execute_result"
    }
   ],
   "source": [
    "stock_hist = df_temp[['open','high','low','close','volume']]\n",
    "stock_hist.head(3)"
   ]
  },
  {
   "cell_type": "code",
   "execution_count": 0,
   "metadata": {},
   "outputs": [],
   "source": [
    "stock_hist.tail(3)"
   ]
  },
  {
   "cell_type": "code",
   "execution_count": 0,
   "metadata": {},
   "outputs": [],
   "source": [
    "length = len(stock_hist)\n",
    "length"
   ]
  }
 ]
}